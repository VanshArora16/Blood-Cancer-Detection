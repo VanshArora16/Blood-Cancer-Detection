{
 "cells": [
  {
   "cell_type": "markdown",
   "id": "c2c50b1c-57f6-471a-83ec-a5967a0c0033",
   "metadata": {},
   "source": [
    "### Importing Packages"
   ]
  },
  {
   "cell_type": "code",
   "execution_count": 1,
   "id": "14cc5343-383d-414e-a74e-91707676a470",
   "metadata": {},
   "outputs": [],
   "source": [
    "import kaggle\n",
    "import zipfile\n",
    "import os\n",
    "import numpy as np\n",
    "import matplotlib.pyplot as plt\n",
    "import tensorflow as tf\n",
    "from tensorflow.keras.preprocessing.image import ImageDataGenerator\n",
    "from tensorflow.keras.models import Sequential\n",
    "from tensorflow.keras.layers import Conv2D, MaxPooling2D, Flatten, Dense, Dropout\n",
    "import warnings"
   ]
  },
  {
   "cell_type": "markdown",
   "id": "566ddc90-b1cf-4888-910d-04ea03036345",
   "metadata": {},
   "source": [
    "### Downloading & Extracting Dataset"
   ]
  },
  {
   "cell_type": "code",
   "execution_count": 2,
   "id": "7004abb4-dc06-4b0f-b7b5-a91cf10fc266",
   "metadata": {},
   "outputs": [],
   "source": [
    "# # downloading the dataset\n",
    "# !kaggle datasets download -d mohammadamireshraghi/blood-cell-cancer-all-4class\n",
    "# # unziping the dataset \n",
    "# with zipfile.ZipFile('blood-cell-cancer-all-4class.zip','r') as zip_ref:\n",
    "#     zip_ref.extractall('blood-cell-cancer-all-4class')\n",
    "\n",
    "# print(\"Dataset downloaded and extracted successfully.\")"
   ]
  },
  {
   "cell_type": "markdown",
   "id": "2adc57bd-8bdf-49af-822e-bfcc9b718554",
   "metadata": {},
   "source": [
    "### Set Up the Paths"
   ]
  },
  {
   "cell_type": "code",
   "execution_count": 3,
   "id": "e03d64af-909f-4568-9599-2f386b801f78",
   "metadata": {},
   "outputs": [],
   "source": [
    "base_dir=\"blood-cell-cancer-all-4class/Blood cell Cancer [ALL]\"\n",
    "train_dir= base_dir\n",
    "test_dir= base_dir # Assuming the same directory structure for testing"
   ]
  },
  {
   "cell_type": "markdown",
   "id": "05b64b42-c04f-4986-9c92-841e18ad3d3d",
   "metadata": {},
   "source": [
    "### Loading & Preprocessing the data"
   ]
  },
  {
   "cell_type": "code",
   "execution_count": 4,
   "id": "a92b5ed2-1200-45c8-a698-5007077b7250",
   "metadata": {},
   "outputs": [
    {
     "name": "stdout",
     "output_type": "stream",
     "text": [
      "Found 2595 images belonging to 4 classes.\n",
      "Found 647 images belonging to 4 classes.\n",
      "Found 3242 images belonging to 4 classes.\n"
     ]
    }
   ],
   "source": [
    "train_datagen = ImageDataGenerator(rescale=1./255, shear_range=0.2, zoom_range=0.2, horizontal_flip=True, validation_split=0.2)\n",
    "test_datagen = ImageDataGenerator(rescale=1./255)\n",
    "\n",
    "#  set as training data\n",
    "train_generator = train_datagen.flow_from_directory(\n",
    "    train_dir,\n",
    "    target_size = (64,64),\n",
    "    batch_size = 32,\n",
    "    class_mode = \"categorical\",\n",
    "    subset = \"training\"\n",
    ")\n",
    "\n",
    "# set as validation data\n",
    "validation_generator = train_datagen.flow_from_directory(\n",
    "    train_dir,\n",
    "    target_size = (64,64),\n",
    "    batch_size = 32,\n",
    "    class_mode = \"categorical\",\n",
    "    subset = \"validation\"\n",
    ")\n",
    "\n",
    "# set as testing data\n",
    "test_generator = test_datagen.flow_from_directory(\n",
    "    test_dir,\n",
    "    target_size = (64,64),\n",
    "    batch_size = 32,\n",
    "    class_mode = \"categorical\"\n",
    ")"
   ]
  },
  {
   "cell_type": "code",
   "execution_count": 5,
   "id": "634706d1-b31c-4886-9366-9dc8144a2797",
   "metadata": {},
   "outputs": [
    {
     "name": "stdout",
     "output_type": "stream",
     "text": [
      "Training samples: 2595\n",
      "Validation samples: 647\n",
      "Steps Per Epoch: 81\n",
      "Validation Steps: 20\n"
     ]
    }
   ],
   "source": [
    "# checking dataset sizes\n",
    "print(\"Training samples:\", train_generator.samples)\n",
    "print(\"Validation samples:\", validation_generator.samples)\n",
    "\n",
    "# calculating the steps per epoch\n",
    "batch_size = 32\n",
    "steps_per_epoch = max(1, train_generator.samples // batch_size) #  calculates the number of steps in each epoch.\n",
    "validation_steps = max(1, validation_generator.samples // batch_size) # calculates the number of validation steps.\n",
    "\n",
    "print(F\"Steps Per Epoch: {steps_per_epoch}\")\n",
    "print(F\"Validation Steps: {validation_steps}\")"
   ]
  },
  {
   "cell_type": "markdown",
   "id": "a1d7c741-ca5b-4215-a64b-32ecc100eb12",
   "metadata": {},
   "source": [
    "### Build & train the CNN Model"
   ]
  },
  {
   "cell_type": "code",
   "execution_count": 6,
   "id": "e3e4f110-4bc3-44cc-b0d7-e284257e1c0f",
   "metadata": {},
   "outputs": [],
   "source": [
    "warnings.filterwarnings(\"ignore\") # ignoring warnings"
   ]
  },
  {
   "cell_type": "code",
   "execution_count": 7,
   "id": "271f6b65-16f6-47ab-97a9-9ab63743f74b",
   "metadata": {},
   "outputs": [],
   "source": [
    "# Building the MODEL\n",
    "model = Sequential([\n",
    "        Conv2D(32,(3,3), input_shape = (64,64,3), activation = \"relu\"),\n",
    "        MaxPooling2D(pool_size = (2,2)),\n",
    "\n",
    "        Conv2D(64, (3,3), activation = \"relu\"),\n",
    "        MaxPooling2D(pool_size = (2,2)),\n",
    "\n",
    "        Conv2D(128, (3,3), activation = \"relu\"),\n",
    "        MaxPooling2D(pool_size = (2,2)),\n",
    "\n",
    "        Flatten(),\n",
    "        Dense(128, activation = \"relu\"),\n",
    "        Dropout(0.5),\n",
    "        Dense(4, activation = \"softmax\")\n",
    "    ])"
   ]
  },
  {
   "cell_type": "code",
   "execution_count": 8,
   "id": "eb002e8a-19ed-467a-ae91-b3eba6052271",
   "metadata": {},
   "outputs": [],
   "source": [
    "# compiling the model\n",
    "model.compile(optimizer = \"adam\", loss = \"categorical_crossentropy\", metrics = [\"accuracy\"]) "
   ]
  },
  {
   "cell_type": "code",
   "execution_count": 9,
   "id": "992cbcfc-c830-45a6-84d0-a57a9a21ac96",
   "metadata": {
    "scrolled": true
   },
   "outputs": [
    {
     "name": "stdout",
     "output_type": "stream",
     "text": [
      "Epoch 1/25\n",
      "\u001b[1m28/81\u001b[0m \u001b[32m━━━━━━\u001b[0m\u001b[37m━━━━━━━━━━━━━━\u001b[0m \u001b[1m52s\u001b[0m 985ms/step - accuracy: 0.2986 - loss: 1.3802"
     ]
    }
   ],
   "source": [
    "# training the model\n",
    "model.fit(\n",
    "    train_generator,\n",
    "    steps_per_epoch = train_generator.samples // train_generator.batch_size,\n",
    "    epochs = 25,\n",
    "    validation_data = validation_generator,\n",
    "    validation_steps = validation_generator.samples // validation_generator.batch_size\n",
    ")"
   ]
  },
  {
   "cell_type": "code",
   "execution_count": null,
   "id": "8b226aae-8cad-4760-b2fa-c7d0ce0d1aec",
   "metadata": {},
   "outputs": [],
   "source": [
    "# saving the model\n",
    "model.save(\"blood_cancer_cnn_model.keras\")"
   ]
  },
  {
   "cell_type": "markdown",
   "id": "db3bab28-3e8b-4b03-b200-e0c4bee2358e",
   "metadata": {},
   "source": [
    "### Visualizing the Dataset"
   ]
  },
  {
   "cell_type": "code",
   "execution_count": null,
   "id": "58ac4329-e787-46fc-ada0-a3244e5dfed4",
   "metadata": {},
   "outputs": [],
   "source": [
    "sample_training_image,_ = next(train_generator)\n",
    "\n",
    "def plotImages(images_arr):\n",
    "    fig,axes = plt.subplots(1,5, figsize=(20,20))\n",
    "    axes= axes.flatten()\n",
    "    for img, ax in zip(images_arr,axes):\n",
    "        ax.imshow(img)\n",
    "        ax.axis(\"off\")\n",
    "    plt.tight_layout()\n",
    "    plt.show()\n",
    "\n",
    "plotImages(sample_training_image[:5])\n",
    "    "
   ]
  },
  {
   "cell_type": "markdown",
   "id": "73e44e70-cef8-441d-844c-58885efe68db",
   "metadata": {},
   "source": [
    "# Testing the model"
   ]
  },
  {
   "cell_type": "markdown",
   "id": "fc905557-1081-43d5-a91f-a898ea342934",
   "metadata": {},
   "source": [
    "### Loading the model"
   ]
  },
  {
   "cell_type": "code",
   "execution_count": null,
   "id": "c0b51c60-7129-46db-be9a-faf7c7ff7853",
   "metadata": {},
   "outputs": [],
   "source": [
    "from tensorflow.keras.models import load_model\n",
    "model = load_model(\"blood_cancer_cnn_model.keras\")"
   ]
  },
  {
   "cell_type": "code",
   "execution_count": null,
   "id": "4ef0815c-5607-44e7-8fc6-ad328a2acada",
   "metadata": {},
   "outputs": [],
   "source": [
    "images, labels = next(test_generator) # get a batch of images and labels"
   ]
  },
  {
   "cell_type": "markdown",
   "id": "e27dcab6-e432-4261-befc-ba3410c09830",
   "metadata": {},
   "source": [
    "### make prediction"
   ]
  },
  {
   "cell_type": "code",
   "execution_count": null,
   "id": "65aa244b-f5da-46bb-9632-86760f93e3e7",
   "metadata": {},
   "outputs": [],
   "source": [
    "predictions = model.predict(images)\n",
    " # decode the prediction\n",
    "class_indices = test_generator.class_indices\n",
    "class_labels = list(class_indices.keys())\n",
    "predicted_classes = np.argmax(predictions, axis = 1)\n",
    "predicted_labels =[class_labels[i] for i in predicted_classes]"
   ]
  },
  {
   "cell_type": "markdown",
   "id": "6e3bf3cb-fc7f-46db-849c-5b66e4990fd1",
   "metadata": {},
   "source": [
    "### printing prediction"
   ]
  },
  {
   "cell_type": "code",
   "execution_count": null,
   "id": "3b9429c6-7486-4824-8232-0e3d841eda8a",
   "metadata": {},
   "outputs": [],
   "source": [
    "for i, pred in enumerate(predicted_labels):\n",
    "    print(F\"Image {i+1}: predicted -{pred},\\nActual - {class_labels[np.argmax(labels[i])]}\")"
   ]
  },
  {
   "cell_type": "code",
   "execution_count": null,
   "id": "2dc03173-d021-4437-b36e-f1bbf8a1c25a",
   "metadata": {},
   "outputs": [],
   "source": [
    "# define function to plot images with predictions and circles\n",
    "import cv2\n",
    "def plot_image_with_circle(image, true_label, predicted_label, radius=30, color=(255,0,0), thickness = 2):\n",
    "    image = cv2.cvtColor(image,cv2.COLOR_BGR2RGB)\n",
    "    height, width, _ =image.shape\n",
    "    center = (width // 2, height // 2)\n",
    "    cv2.circle(image,center, radius, color, thickness)\n",
    "    plt.imshow(image)\n",
    "    plt.title(F\"True: {true_label},\\nPredicted: {predicted_label}\")\n",
    "    plt.axis(\"off\")\n",
    "    plt.show()\n",
    "\n",
    "# visualize a few predictions with circles\n",
    "for i in range (len(images)):\n",
    "    plot_image_with_circle(images[i], class_labels[np.argmax(labels[i])], predicted_labels[i])"
   ]
  },
  {
   "cell_type": "markdown",
   "id": "5f4c52ee-8776-46a4-89b9-9b58a2f16320",
   "metadata": {},
   "source": [
    "##Pickle"
   ]
  },
  {
   "cell_type": "code",
   "execution_count": null,
   "id": "ac93a65b-952b-4540-908f-38097727e73e",
   "metadata": {},
   "outputs": [],
   "source": [
    "import pickle as pkl"
   ]
  },
  {
   "cell_type": "code",
   "execution_count": null,
   "id": "f6263819-5565-4bae-ae77-d85aecf517e2",
   "metadata": {},
   "outputs": [],
   "source": []
  }
 ],
 "metadata": {
  "kernelspec": {
   "display_name": "Python 3 (ipykernel)",
   "language": "python",
   "name": "python3"
  },
  "language_info": {
   "codemirror_mode": {
    "name": "ipython",
    "version": 3
   },
   "file_extension": ".py",
   "mimetype": "text/x-python",
   "name": "python",
   "nbconvert_exporter": "python",
   "pygments_lexer": "ipython3",
   "version": "3.12.3"
  }
 },
 "nbformat": 4,
 "nbformat_minor": 5
}
